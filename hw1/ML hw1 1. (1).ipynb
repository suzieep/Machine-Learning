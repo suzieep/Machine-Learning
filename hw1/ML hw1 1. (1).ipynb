{
 "cells": [
  {
   "cell_type": "code",
   "execution_count": 279,
   "metadata": {},
   "outputs": [
    {
     "name": "stdout",
     "output_type": "stream",
     "text": [
      "2\n"
     ]
    }
   ],
   "source": [
    "#1\n",
    "\n",
    "input_list =['cabc', 'xyza','abbc','13221']\n",
    "\n",
    "count=0\n",
    "\n",
    "for x in range(len(input_list)):\n",
    "    if len(input_list)>=3:\n",
    "        if input_list[x][0]==input_list[x][-1]:\n",
    "            count=count+1\n",
    "            \n",
    "print(count)\n"
   ]
  },
  {
   "cell_type": "code",
   "execution_count": 280,
   "metadata": {},
   "outputs": [
    {
     "name": "stdout",
     "output_type": "stream",
     "text": [
      "[[1, 2], [2, 6], [3, 4], [4, 1], [5, 3]]\n"
     ]
    }
   ],
   "source": [
    "#2\n",
    "\n",
    "input_list = [[2, 6], [1, 2], [3, 4], [5, 3], [4, 1]]\n",
    "input_list.sort()\n",
    "print(input_list)\n"
   ]
  },
  {
   "cell_type": "code",
   "execution_count": 281,
   "metadata": {},
   "outputs": [
    {
     "data": {
      "text/plain": [
       "array([[1, 'Afghanistan', 5, ..., 0, 'black', 'green'],\n",
       "       [2, 'Albania', 3, ..., 0, 'red', 'red'],\n",
       "       [3, 'Algeria', 4, ..., 0, 'green', 'white'],\n",
       "       ...,\n",
       "       [192, 'Zaire', 4, ..., 0, 'green', 'green'],\n",
       "       [193, 'Zambia', 4, ..., 0, 'green', 'brown'],\n",
       "       [194, 'Zimbabwe', 4, ..., 0, 'green', 'green']], dtype=object)"
      ]
     },
     "execution_count": 281,
     "metadata": {},
     "output_type": "execute_result"
    }
   ],
   "source": [
    "#3-1\n",
    "\n",
    "import pandas as pd\n",
    "import numpy as np\n",
    "\n",
    "flags_data = pd.read_csv('/Users/soojinlee/python/flags2.csv',header=0)\n",
    "a_list = np.array(flags_data)\n",
    "\n",
    "a_list\n",
    "\n"
   ]
  },
  {
   "cell_type": "code",
   "execution_count": 282,
   "metadata": {},
   "outputs": [
    {
     "name": "stdout",
     "output_type": "stream",
     "text": [
      "the number of columns : 31 \n",
      "the number of rows : 194\n"
     ]
    }
   ],
   "source": [
    "#3-2\n",
    "\n",
    "column_num = len(a_list[0])\n",
    "row_num = len(a_list)\n",
    "print(\"the number of columns :\",column_num ,\"\\nthe number of rows :\",row_num)\n"
   ]
  },
  {
   "cell_type": "code",
   "execution_count": 283,
   "metadata": {},
   "outputs": [
    {
     "data": {
      "text/plain": [
       "array([[1, 'Afghanistan', 5, 1, 648, 16, 10, 2, 0, 3, 5, 1, 1, 0, 1, 1,\n",
       "        1, 0, 'green', 0, 0, 0, 0, 1, 0, 0, 1, 0, 0, 'black', 'green'],\n",
       "       [2, 'Albania', 3, 1, 29, 3, 6, 6, 0, 0, 3, 1, 0, 0, 1, 0, 1, 0,\n",
       "        'red', 0, 0, 0, 0, 1, 0, 0, 0, 1, 0, 'red', 'red'],\n",
       "       [3, 'Algeria', 4, 1, 2388, 20, 8, 2, 2, 0, 3, 1, 1, 0, 0, 1, 0, 0,\n",
       "        'green', 0, 0, 0, 0, 1, 1, 0, 0, 0, 0, 'green', 'white'],\n",
       "       [4, 'American-Samoa', 6, 3, 0, 0, 1, 1, 0, 0, 5, 1, 0, 1, 1, 1, 0,\n",
       "        1, 'blue', 0, 0, 0, 0, 0, 0, 1, 1, 1, 0, 'blue', 'red'],\n",
       "       [5, 'Andorra', 3, 1, 0, 0, 6, 0, 3, 0, 3, 1, 0, 1, 1, 0, 0, 0,\n",
       "        'gold', 0, 0, 0, 0, 0, 0, 0, 0, 0, 0, 'blue', 'red']],\n",
       "      dtype=object)"
      ]
     },
     "execution_count": 283,
     "metadata": {},
     "output_type": "execute_result"
    }
   ],
   "source": [
    "#3-3\n",
    "\n",
    "a_list[:5]"
   ]
  },
  {
   "cell_type": "code",
   "execution_count": 284,
   "metadata": {},
   "outputs": [
    {
     "data": {
      "text/plain": [
       "array([[82, 'India', 5, ..., 0, 'orange', 'green'],\n",
       "       [134, 'Panama', 2, ..., 0, 'white', 'white'],\n",
       "       [138, 'Philippines', 6, ..., 0, 'blue', 'red'],\n",
       "       ...,\n",
       "       [90, 'Jamaica', 1, ..., 0, 'gold', 'gold'],\n",
       "       [192, 'Zaire', 4, ..., 0, 'green', 'green'],\n",
       "       [153, 'Somalia', 4, ..., 0, 'blue', 'blue']], dtype=object)"
      ]
     },
     "execution_count": 284,
     "metadata": {},
     "output_type": "execute_result"
    }
   ],
   "source": [
    "#3-4\n",
    "import numpy as np\n",
    "import copy\n",
    "\n",
    "shuffled_list = copy.copy(a_list)\n",
    "np.random.shuffle(shuffled_list)\n",
    "shuffled_list"
   ]
  },
  {
   "cell_type": "code",
   "execution_count": 487,
   "metadata": {},
   "outputs": [
    {
     "name": "stdout",
     "output_type": "stream",
     "text": [
      "put a column number : 3\n"
     ]
    },
    {
     "data": {
      "text/plain": [
       "array([5, 3, 4, 6, 3, 4, 1, 1, 2, 2, 6, 3, 1, 5, 5, 1, 3, 1, 4, 1, 5, 2,\n",
       "       4, 2, 1, 5, 3, 4, 5, 4, 4, 1, 4, 1, 4, 4, 2, 5, 2, 4, 4, 6, 1, 1,\n",
       "       3, 3, 3, 4, 1, 1, 2, 4, 1, 4, 4, 3, 2, 6, 3, 3, 2, 6, 4, 4, 3, 3,\n",
       "       4, 3, 3, 1, 1, 6, 1, 4, 4, 2, 1, 1, 5, 3, 3, 5, 6, 5, 5, 3, 5, 3,\n",
       "       4, 1, 5, 5, 5, 4, 6, 5, 5, 5, 4, 4, 4, 3, 3, 4, 4, 5, 5, 4, 3, 6,\n",
       "       4, 4, 1, 6, 3, 5, 1, 4, 4, 6, 5, 3, 1, 6, 1, 4, 4, 6, 5, 5, 3, 5,\n",
       "       5, 2, 6, 2, 2, 6, 3, 3, 1, 5, 3, 4, 3, 4, 5, 4, 4, 4, 5, 6, 4, 4,\n",
       "       5, 5, 3, 5, 4, 1, 1, 1, 4, 2, 4, 3, 3, 5, 5, 4, 5, 4, 6, 2, 4, 5,\n",
       "       1, 6, 5, 4, 3, 2, 1, 1, 5, 6, 3, 2, 5, 6, 3, 4, 4, 4], dtype=object)"
      ]
     },
     "execution_count": 487,
     "metadata": {},
     "output_type": "execute_result"
    }
   ],
   "source": [
    "#4-1\n",
    "import numpy as np\n",
    "\n",
    "column_x=input(\"put a column number : \")\n",
    "column_values=a_list[:,int(column_x)-1:int(column_x)]\n",
    "column_values_1d = column_values.ravel()\n",
    "column_values_1d"
   ]
  },
  {
   "cell_type": "code",
   "execution_count": 488,
   "metadata": {},
   "outputs": [
    {
     "data": {
      "text/plain": [
       "array([4, 4, 4, 3, 6, 5, 2, 3, 6, 5, 1, 1, 2, 3, 4, 5, 6, 1, 5, 4, 2, 6,\n",
       "       4, 5, 4, 5, 5, 3, 3, 4, 2, 4, 1, 1, 1, 4, 5, 3, 5, 5, 4, 4, 6, 5,\n",
       "       4, 4, 4, 5, 4, 3, 4, 3, 5, 1, 3, 3, 6, 2, 2, 6, 2, 5, 5, 3, 5, 5,\n",
       "       6, 4, 4, 1, 6, 1, 3, 5, 6, 4, 4, 1, 5, 3, 6, 1, 4, 4, 6, 3, 4, 5,\n",
       "       5, 4, 4, 3, 3, 4, 4, 4, 5, 5, 5, 6, 4, 5, 5, 5, 1, 4, 3, 5, 3, 5,\n",
       "       5, 6, 5, 3, 3, 5, 1, 1, 2, 4, 4, 1, 6, 1, 1, 3, 3, 4, 3, 3, 4, 4,\n",
       "       6, 2, 3, 3, 6, 2, 3, 4, 4, 1, 4, 2, 1, 1, 4, 3, 3, 3, 1, 1, 6, 4,\n",
       "       4, 2, 5, 2, 4, 4, 1, 4, 1, 4, 4, 5, 4, 3, 5, 1, 2, 4, 2, 5, 1, 4,\n",
       "       1, 3, 1, 5, 5, 1, 3, 6, 2, 2, 1, 1, 4, 3, 6, 4, 3, 5], dtype=object)"
      ]
     },
     "execution_count": 488,
     "metadata": {},
     "output_type": "execute_result"
    }
   ],
   "source": [
    "#4-2\n",
    "column_values_1d[::-1]"
   ]
  },
  {
   "cell_type": "code",
   "execution_count": 489,
   "metadata": {},
   "outputs": [],
   "source": [
    "#5-1\n",
    "\n",
    "def divide_train_test(in_list,prop):\n",
    "    train_ind = int(len(in_list)*prop)\n",
    "    train_data = in_list[:train_ind]\n",
    "    test_data = in_list[train_ind:]\n",
    "\n",
    "    return [train_data, test_data]"
   ]
  },
  {
   "cell_type": "code",
   "execution_count": 490,
   "metadata": {},
   "outputs": [
    {
     "name": "stdout",
     "output_type": "stream",
     "text": [
      "[array([[1, 'Afghanistan', 5, ..., 0, 'black', 'green'],\n",
      "       [2, 'Albania', 3, ..., 0, 'red', 'red'],\n",
      "       [3, 'Algeria', 4, ..., 0, 'green', 'white'],\n",
      "       ...,\n",
      "       [133, 'Pakistan', 5, ..., 0, 'white', 'green'],\n",
      "       [134, 'Panama', 2, ..., 0, 'white', 'white'],\n",
      "       [135, 'Papua-New-Guinea', 6, ..., 0, 'red', 'black']], dtype=object), array([[136, 'Parguay', 2, ..., 1, 'red', 'blue'],\n",
      "       [137, 'Peru', 2, ..., 0, 'red', 'red'],\n",
      "       [138, 'Philippines', 6, ..., 0, 'blue', 'red'],\n",
      "       ...,\n",
      "       [192, 'Zaire', 4, ..., 0, 'green', 'green'],\n",
      "       [193, 'Zambia', 4, ..., 0, 'green', 'brown'],\n",
      "       [194, 'Zimbabwe', 4, ..., 0, 'green', 'green']], dtype=object)]\n",
      "[array([[1, 'Afghanistan', 5, ..., 0, 'black', 'green'],\n",
      "       [2, 'Albania', 3, ..., 0, 'red', 'red'],\n",
      "       [3, 'Algeria', 4, ..., 0, 'green', 'white'],\n",
      "       ...,\n",
      "       [172, 'Togo', 4, ..., 0, 'red', 'green'],\n",
      "       [173, 'Tonga', 6, ..., 0, 'white', 'red'],\n",
      "       [174, 'Trinidad-Tobago', 2, ..., 0, 'white', 'white']],\n",
      "      dtype=object), array([[175, 'Tunisia', 4, 1, 164, 7, 8, 2, 0, 0, 2, 1, 0, 0, 0, 1, 0, 0,\n",
      "        'red', 1, 0, 0, 0, 1, 1, 0, 0, 0, 0, 'red', 'red'],\n",
      "       [176, 'Turkey', 5, 1, 781, 45, 9, 2, 0, 0, 2, 1, 0, 0, 0, 1, 0, 0,\n",
      "        'red', 0, 0, 0, 0, 1, 1, 0, 0, 0, 0, 'red', 'red'],\n",
      "       [177, 'Turks-Cocos-Islands', 1, 4, 0, 0, 1, 1, 0, 0, 6, 1, 1, 1,\n",
      "        1, 1, 0, 1, 'blue', 0, 1, 1, 1, 0, 0, 0, 1, 1, 0, 'white',\n",
      "        'blue'],\n",
      "       [178, 'Tuvalu', 6, 2, 0, 0, 1, 1, 0, 0, 5, 1, 0, 1, 1, 1, 0, 0,\n",
      "        'blue', 0, 1, 1, 1, 9, 0, 0, 0, 0, 0, 'white', 'blue'],\n",
      "       [179, 'UAE', 5, 1, 84, 1, 8, 2, 1, 3, 4, 1, 1, 0, 0, 1, 1, 0,\n",
      "        'green', 0, 0, 0, 0, 0, 0, 0, 0, 0, 0, 'red', 'black'],\n",
      "       [180, 'Uganda', 4, 1, 236, 13, 10, 5, 0, 6, 5, 1, 0, 0, 1, 1, 1,\n",
      "        0, 'gold', 1, 0, 0, 0, 0, 0, 0, 0, 1, 0, 'black', 'red'],\n",
      "       [181, 'UK', 3, 4, 245, 56, 1, 1, 0, 0, 3, 1, 0, 1, 0, 1, 0, 0,\n",
      "        'red', 0, 1, 1, 0, 0, 0, 0, 0, 0, 0, 'white', 'red'],\n",
      "       [182, 'Uruguay', 2, 3, 178, 3, 2, 0, 0, 9, 3, 0, 0, 1, 1, 1, 0, 0,\n",
      "        'white', 0, 0, 0, 1, 1, 0, 0, 0, 0, 0, 'white', 'white'],\n",
      "       [183, 'US-Virgin-Isles', 1, 4, 0, 0, 1, 1, 0, 0, 6, 1, 1, 1, 1, 1,\n",
      "        0, 0, 'white', 0, 0, 0, 0, 0, 0, 0, 1, 1, 1, 'white', 'white'],\n",
      "       [184, 'USA', 1, 4, 9363, 231, 1, 1, 0, 13, 3, 1, 0, 1, 0, 1, 0, 0,\n",
      "        'white', 0, 0, 0, 1, 50, 0, 0, 0, 0, 0, 'blue', 'red'],\n",
      "       [185, 'USSR', 5, 1, 22402, 274, 5, 6, 0, 0, 2, 1, 0, 0, 1, 0, 0,\n",
      "        0, 'red', 0, 0, 0, 0, 1, 0, 0, 1, 0, 0, 'red', 'red'],\n",
      "       [186, 'Vanuatu', 6, 2, 15, 0, 6, 1, 0, 0, 4, 1, 1, 0, 1, 0, 1, 0,\n",
      "        'red', 0, 0, 0, 0, 0, 0, 1, 0, 1, 0, 'black', 'green'],\n",
      "       [187, 'Vatican-City', 3, 1, 0, 0, 6, 0, 2, 0, 4, 1, 0, 0, 1, 1, 1,\n",
      "        0, 'gold', 0, 0, 0, 0, 0, 0, 0, 1, 0, 0, 'gold', 'white'],\n",
      "       [188, 'Venezuela', 2, 4, 912, 15, 2, 0, 0, 3, 7, 1, 1, 1, 1, 1, 1,\n",
      "        1, 'red', 0, 0, 0, 0, 7, 0, 0, 1, 1, 0, 'gold', 'red'],\n",
      "       [189, 'Vietnam', 5, 1, 333, 60, 10, 6, 0, 0, 2, 1, 0, 0, 1, 0, 0,\n",
      "        0, 'red', 0, 0, 0, 0, 1, 0, 0, 0, 0, 0, 'red', 'red'],\n",
      "       [190, 'Western-Samoa', 6, 3, 3, 0, 1, 1, 0, 0, 3, 1, 0, 1, 0, 1,\n",
      "        0, 0, 'red', 0, 0, 0, 1, 5, 0, 0, 0, 0, 0, 'blue', 'red'],\n",
      "       [191, 'Yugoslavia', 3, 1, 256, 22, 6, 6, 0, 3, 4, 1, 0, 1, 1, 1,\n",
      "        0, 0, 'red', 0, 0, 0, 0, 1, 0, 0, 0, 0, 0, 'blue', 'red'],\n",
      "       [192, 'Zaire', 4, 2, 905, 28, 10, 5, 0, 0, 4, 1, 1, 0, 1, 0, 0, 1,\n",
      "        'green', 1, 0, 0, 0, 0, 0, 0, 1, 1, 0, 'green', 'green'],\n",
      "       [193, 'Zambia', 4, 2, 753, 6, 10, 5, 3, 0, 4, 1, 1, 0, 0, 0, 1, 1,\n",
      "        'green', 0, 0, 0, 0, 0, 0, 0, 0, 1, 0, 'green', 'brown'],\n",
      "       [194, 'Zimbabwe', 4, 2, 391, 8, 10, 5, 0, 7, 5, 1, 1, 0, 1, 1, 1,\n",
      "        0, 'green', 0, 0, 0, 0, 1, 0, 1, 1, 1, 0, 'green', 'green']],\n",
      "      dtype=object)]\n"
     ]
    }
   ],
   "source": [
    "#5-2\n",
    "print(divide_train_test(a_list,0.7))\n",
    "print(divide_train_test(a_list,0.9))"
   ]
  },
  {
   "cell_type": "code",
   "execution_count": 491,
   "metadata": {},
   "outputs": [],
   "source": [
    "#6-1\n",
    "\n",
    "def min_max_avg(in_list):\n",
    "    minmaxavg=[min(in_list),max(in_list),sum(in_list)/len(in_list)]\n",
    "    return minmaxavg"
   ]
  },
  {
   "cell_type": "code",
   "execution_count": 492,
   "metadata": {},
   "outputs": [
    {
     "name": "stdout",
     "output_type": "stream",
     "text": [
      "[-72 -23  76 -42   4 -27  61 -65 -73 -94]\n",
      "[-94, 76, -25.5]\n"
     ]
    }
   ],
   "source": [
    "#6-2\n",
    "random_list=np.random.randint(-100,100,10)\n",
    "print(random_list)\n",
    "print(min_max_avg(random_list))"
   ]
  },
  {
   "cell_type": "code",
   "execution_count": 493,
   "metadata": {},
   "outputs": [],
   "source": [
    "#6-3 \n",
    "def equ_interval(minmax,interval_num): \n",
    "    minr=minmax[0]\n",
    "    maxr=minmax[1]\n",
    "    interval_size=int((maxr-minr)/interval_num) \n",
    "    out_equ=[[0]*2 for i in range(interval_num)]\n",
    "    out_equ[0][0]=0\n",
    "    for x in range(int(interval_num)): \n",
    "        out_equ[x][0]=minr+interval_size*x \n",
    "        out_equ[x][1]=minr+interval_size*(x+1)\n",
    "        \n",
    "    return out_equ"
   ]
  },
  {
   "cell_type": "code",
   "execution_count": 494,
   "metadata": {},
   "outputs": [
    {
     "name": "stdout",
     "output_type": "stream",
     "text": [
      "[[-4, 0], [0, 4], [4, 8]]\n",
      "[[0, 5], [5, 10], [10, 15], [15, 20], [20, 25]]\n"
     ]
    }
   ],
   "source": [
    "#6-4\n",
    "print(equ_interval([-4,8],3))\n",
    "print(equ_interval([0,25],5))"
   ]
  },
  {
   "cell_type": "code",
   "execution_count": 495,
   "metadata": {},
   "outputs": [],
   "source": [
    "#7-1\n",
    "\n",
    "def no_of_values(in_list):\n",
    "    return len(in_list) #1d"
   ]
  },
  {
   "cell_type": "code",
   "execution_count": 425,
   "metadata": {},
   "outputs": [],
   "source": [
    "#7-2\n",
    "\n",
    "from collections import Counter\n",
    "\n",
    "def no_of_dis_val(in_list):\n",
    "    distinct_list= (Counter(in_list).keys())\n",
    "    \n",
    "    return  len(distinct_list) #1d"
   ]
  },
  {
   "cell_type": "code",
   "execution_count": 501,
   "metadata": {},
   "outputs": [
    {
     "name": "stdout",
     "output_type": "stream",
     "text": [
      "attribute :  1 , val : 194 , dis : 194\n",
      "attribute :  2 , val : 194 , dis : 194\n",
      "attribute :  3 , val : 194 , dis : 6\n",
      "attribute :  4 , val : 194 , dis : 4\n",
      "attribute :  5 , val : 194 , dis : 136\n",
      "attribute :  6 , val : 194 , dis : 48\n",
      "attribute :  7 , val : 194 , dis : 10\n",
      "attribute :  8 , val : 194 , dis : 8\n",
      "attribute :  9 , val : 194 , dis : 5\n",
      "attribute :  10 , val : 194 , dis : 12\n",
      "attribute :  11 , val : 194 , dis : 8\n",
      "attribute :  12 , val : 194 , dis : 2\n",
      "attribute :  13 , val : 194 , dis : 2\n",
      "attribute :  14 , val : 194 , dis : 2\n",
      "attribute :  15 , val : 194 , dis : 2\n",
      "attribute :  16 , val : 194 , dis : 2\n",
      "attribute :  17 , val : 194 , dis : 2\n",
      "attribute :  18 , val : 194 , dis : 2\n",
      "attribute :  19 , val : 194 , dis : 8\n",
      "attribute :  20 , val : 194 , dis : 4\n",
      "attribute :  21 , val : 194 , dis : 3\n",
      "attribute :  22 , val : 194 , dis : 2\n",
      "attribute :  23 , val : 194 , dis : 3\n",
      "attribute :  24 , val : 194 , dis : 14\n",
      "attribute :  25 , val : 194 , dis : 2\n",
      "attribute :  26 , val : 194 , dis : 2\n",
      "attribute :  27 , val : 194 , dis : 2\n",
      "attribute :  28 , val : 194 , dis : 2\n",
      "attribute :  29 , val : 194 , dis : 2\n",
      "attribute :  30 , val : 194 , dis : 7\n",
      "attribute :  31 , val : 194 , dis : 8\n"
     ]
    }
   ],
   "source": [
    "#7-3\n",
    "\n",
    "for x in range(1,len(a_list[0])+1):\n",
    "    attributes_val = a_list[:,x-1:x]\n",
    "    into_1d = attributes_val.ravel()\n",
    "    # print(into_1d)\n",
    "    print(\"attribute : \",x, \", val :\", no_of_values(into_1d),\", dis :\",no_of_dis_val(into_1d))"
   ]
  },
  {
   "cell_type": "code",
   "execution_count": 497,
   "metadata": {},
   "outputs": [
    {
     "data": {
      "image/png": "[encoded data removed]",
      "text/plain": [
       "<Figure size 432x288 with 1 Axes>"
      ]
     },
     "metadata": {
      "needs_background": "light"
     },
     "output_type": "display_data"
    }
   ],
   "source": [
    "#7-4\n",
    "import matplotlib.pyplot as plt\n",
    "plot_x=[]\n",
    "plot_y=[]\n",
    "for x in range(1,len(a_list[0])+1):\n",
    "    attributes_val = a_list[:,x-1:x]\n",
    "    into_1d = attributes_val.ravel()\n",
    "    # print(into_1d)\n",
    "    plot_x.append(x)\n",
    "    plot_y.append(no_of_dis_val(into_1d))\n",
    "plt.plot(plot_x, plot_y,'red')\n",
    "plt.xlabel('index of attribute')\n",
    "plt.ylabel('number of distinct values')\n",
    "plt.show()"
   ]
  },
  {
   "cell_type": "code",
   "execution_count": null,
   "metadata": {},
   "outputs": [],
   "source": []
  }
 ],
 "metadata": {
  "kernelspec": {
   "display_name": "Python 3",
   "language": "python",
   "name": "python3"
  },
  "language_info": {
   "codemirror_mode": {
    "name": "ipython",
    "version": 3
   },
   "file_extension": ".py",
   "mimetype": "text/x-python",
   "name": "python",
   "nbconvert_exporter": "python",
   "pygments_lexer": "ipython3",
   "version": "3.7.6"
  }
 },
 "nbformat": 4,
 "nbformat_minor": 4
}
