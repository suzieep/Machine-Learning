{
 "cells": [
  {
   "cell_type": "code",
   "execution_count": 199,
   "metadata": {},
   "outputs": [],
   "source": [
    "#0 READ FILE\n",
    "\n",
    "#read your csv file into 2-dimenson list (a_list)\n",
    "\n",
    "import pandas as pd\n",
    "import numpy as np\n",
    "\n",
    "filename = '/Users/soojinlee/python/hw2/heart-statlog.csv'\n",
    "data = pd.read_csv(filename)\n",
    "\n",
    "a_list = data.values"
   ]
  },
  {
   "cell_type": "code",
   "execution_count": 200,
   "metadata": {},
   "outputs": [],
   "source": [
    "#1-1 PREPROCESSING - LABEL ENCODING\n",
    "\n",
    "from sklearn.preprocessing import LabelEncoder\n",
    "\n",
    "le = LabelEncoder()\n",
    "getLabel=[]\n",
    "tmp_list = a_list\n",
    " \n",
    "for j in range(len(tmp_list[0])):\n",
    "    temp=[]\n",
    "    for i in range(len(tmp_list)):\n",
    "        temp.append(tmp_list[i][j])\n",
    "        \n",
    "    indexing = {}\n",
    "    uniqueList = np.unique(temp)\n",
    "    \n",
    "    for i in range(len(uniqueList)):\n",
    "        indexing[uniqueList[i]] = i\n",
    "        \n",
    "    getLabel.append(indexing)\n",
    "\n",
    "for j in range(len(tmp_list[0])):\n",
    "    temp=[]\n",
    "    for i in range(len(tmp_list)):\n",
    "        temp.append(tmp_list[i][j])\n",
    "        \n",
    "    le.fit(temp)\n",
    "    list(le.classes_)\n",
    "    tempTrans = le.transform(temp)\n",
    "    \n",
    "    for i in range(len(tmp_list)):\n",
    "        tmp_list[i][j] = tempTrans[i]\n",
    "        \n",
    "a_list_enc = tmp_list\n",
    "df= pd.DataFrame(data=a_list_enc)\n",
    "df.to_csv('a_list_enc.csv',index=False,header=False)"
   ]
  },
  {
   "cell_type": "code",
   "execution_count": 201,
   "metadata": {},
   "outputs": [],
   "source": [
    "#1-2 PREPROCESSING - NOMALIZATION\n",
    "\n",
    "from sklearn.preprocessing import StandardScaler\n",
    "scaler = StandardScaler()\n",
    "\n",
    "scaler.fit(a_list_enc)\n",
    "\n",
    "a_list_enc_norm = scaler.transform(a_list_enc)\n",
    "\n",
    "\n",
    "import pandas as pd\n",
    "df= pd.DataFrame(data=a_list_enc_norm)\n",
    "df.to_csv('a_list_enc_norm.csv', index=False,header=False)"
   ]
  },
  {
   "cell_type": "code",
   "execution_count": 202,
   "metadata": {},
   "outputs": [],
   "source": [
    "#2 Divide into train & test\n",
    "\n",
    "from sklearn.model_selection import train_test_split\n",
    "from sklearn.linear_model import LinearRegression\n",
    "\n",
    "\n",
    "X_data=[]\n",
    "for i in range(len(a_list_enc_norm)):\n",
    "    X_data.append(a_list_enc_norm[i][:len(a_list_enc_norm[0])-1])\n",
    "    \n",
    "Y_data=[]   \n",
    "for i in range(len(a_list_enc)):\n",
    "    Y_data.append(a_list_enc[i][-1])\n",
    "\n",
    "X_train, X_test, Y_train, Y_test = train_test_split(X_data, Y_data, test_size=0.3, random_state=42)"
   ]
  },
  {
   "cell_type": "code",
   "execution_count": 203,
   "metadata": {},
   "outputs": [],
   "source": [
    "#3 Running IBL (K nearest neighbor)\n",
    "\n",
    "from sklearn.neighbors import NearestNeighbors\n",
    "from sklearn.neighbors import KNeighborsClassifier\n",
    "import sklearn\n",
    "import matplotlib.pyplot as plt\n"
   ]
  },
  {
   "cell_type": "code",
   "execution_count": 204,
   "metadata": {},
   "outputs": [
    {
     "name": "stdout",
     "output_type": "stream",
     "text": [
      "IBL / accuracy when n_neighbors=1 :  0.8024691358024691\n",
      "IBL / accuracy when n_neighbors=5 :  0.8148148148148148\n",
      "IBL / accuracy when n_neighbors=9 :  0.7777777777777778\n",
      "IBL / accuracy when n_neighbors=15 :  0.8641975308641975\n"
     ]
    },
    {
     "data": {
      "image/png": "[encoded data removed]",
      "text/plain": [
       "<Figure size 432x288 with 1 Axes>"
      ]
     },
     "metadata": {
      "needs_background": "light"
     },
     "output_type": "display_data"
    }
   ],
   "source": [
    "#3-1) run the algorithm by changing the value of n_neighbors to 1, 5, 9, 15\n",
    "# Draw a graph showing the relationship between accuracy and n_neighbors.\n",
    "nei_1 = KNeighborsClassifier(n_neighbors=1)\n",
    "nei_1.fit(X_train, Y_train)\n",
    "predic_1 = nei_1.predict(X_test)\n",
    "cal_nei_1 = sklearn.metrics.accuracy_score(Y_test, predic_1)\n",
    "\n",
    "nei_5 = KNeighborsClassifier(n_neighbors=5)\n",
    "nei_5.fit(X_train, Y_train)\n",
    "predic_5 = nei_5.predict(X_test)\n",
    "cal_nei_2 = sklearn.metrics.accuracy_score(Y_test, predic_5)\n",
    "\n",
    "nei_9 = KNeighborsClassifier(n_neighbors=9)\n",
    "nei_9.fit(X_train, Y_train)\n",
    "predic_9 = nei_9.predict(X_test)\n",
    "cal_nei_3 = sklearn.metrics.accuracy_score(Y_test, predic_9)\n",
    "\n",
    "nei_15 = KNeighborsClassifier(n_neighbors=15)\n",
    "nei_15.fit(X_train, Y_train)\n",
    "predic_15 = nei_15.predict(X_test)\n",
    "cal_nei_4 = sklearn.metrics.accuracy_score(Y_test, predic_15)\n",
    "\n",
    "x_array = [1,5,9,15]\n",
    "y_array = [cal_nei_1,cal_nei_2,cal_nei_3,cal_nei_4]\n",
    "print(\"IBL / accuracy when n_neighbors=1 : \",cal_nei_1)\n",
    "print(\"IBL / accuracy when n_neighbors=5 : \",cal_nei_2)\n",
    "print(\"IBL / accuracy when n_neighbors=9 : \",cal_nei_3)\n",
    "print(\"IBL / accuracy when n_neighbors=15 : \",cal_nei_4)\n",
    "\n",
    "plt.plot(x_array, y_array, color =\"red\")\n",
    "plt.title('the relationship between accuracy and n_neighbors')\n",
    "plt.xlabel('n_neighbors')\n",
    "plt.ylabel('accuracy')\n",
    "plt.show()"
   ]
  },
  {
   "cell_type": "code",
   "execution_count": 205,
   "metadata": {},
   "outputs": [
    {
     "name": "stdout",
     "output_type": "stream",
     "text": [
      "IBL / accuracy when weights='uniform' :  0.8148148148148148\n",
      "IBL / accuracy weights='distance':  0.8148148148148148\n"
     ]
    }
   ],
   "source": [
    "#3-2) run the algorithm by changing the value of weights to \n",
    "#‘uniform’ and ‘distance’, respectively. \n",
    "# Compare the results and explain the meaning of the results.\n",
    "\n",
    "nei_uni = KNeighborsClassifier(weights='uniform')\n",
    "nei_uni.fit(X_train, Y_train)\n",
    "predic_uni = nei_uni.predict(X_test)\n",
    "cal_nei_uni = sklearn.metrics.accuracy_score(Y_test, predic_uni)\n",
    "\n",
    "nei_dis=KNeighborsClassifier(weights='distance')\n",
    "nei_dis.fit(X_train, Y_train)\n",
    "predic_dis = nei_dis.predict(X_test)\n",
    "cal_nei_dis = sklearn.metrics.accuracy_score(Y_test, predic_dis)\n",
    "\n",
    "print(\"IBL / accuracy when weights='uniform' : \",cal_nei_uni)\n",
    "print(\"IBL / accuracy weights='distance': \",cal_nei_dis)"
   ]
  },
  {
   "cell_type": "code",
   "execution_count": 206,
   "metadata": {},
   "outputs": [
    {
     "name": "stdout",
     "output_type": "stream",
     "text": [
      "IBL / accuracy when p=1 :  0.8024691358024691\n",
      "IBL / accuracy p=2 :  0.8148148148148148\n"
     ]
    }
   ],
   "source": [
    "#3-3)run the algorithm by changing the value of p to 1 (Manhattan) and 2(Euclidean). \n",
    "# Compare the results and explain the meaning of the results.\n",
    "\n",
    "nei_p1=KNeighborsClassifier(p=1)\n",
    "nei_p1.fit(X_train, Y_train)\n",
    "predic_p1 = nei_p1.predict(X_test)\n",
    "cal_nei_p1 = sklearn.metrics.accuracy_score(Y_test, predic_p1)\n",
    "\n",
    "nei_p2=KNeighborsClassifier(p=2)\n",
    "nei_p2.fit(X_train, Y_train)\n",
    "predic_p2 = nei_p2.predict(X_test)\n",
    "cal_nei_p2 = sklearn.metrics.accuracy_score(Y_test, predic_p2)\n",
    "\n",
    "print(\"IBL / accuracy when p=1 : \",cal_nei_p1)\n",
    "print(\"IBL / accuracy p=2 : \",cal_nei_p2)"
   ]
  },
  {
   "cell_type": "code",
   "execution_count": 207,
   "metadata": {},
   "outputs": [],
   "source": [
    "#4 Running AdaBoost\n",
    "from sklearn.ensemble import AdaBoostClassifier\n",
    "from sklearn.tree import DecisionTreeClassifier"
   ]
  },
  {
   "cell_type": "code",
   "execution_count": 208,
   "metadata": {},
   "outputs": [
    {
     "name": "stdout",
     "output_type": "stream",
     "text": [
      "AdaBoost / accuracy when n_estimators=3 :  0.7777777777777778\n",
      "AdaBoost / accuracy when n_estimators=7 :  0.8024691358024691\n",
      "AdaBoost / accuracy when n_estimators=10 :  0.7654320987654321\n",
      "AdaBoost / accuracy when n_estimators=50 :  0.8024691358024691\n",
      "AdaBoost / accuracy when n_estimators=100 :  0.7901234567901234\n"
     ]
    }
   ],
   "source": [
    "#4-1) run by changing n_estimators = 3, 7, 10, 50, 100, \n",
    "#and show the accuracies of each run.\n",
    "# Explain the effect of the n_estimators.\n",
    "\n",
    "ada_3 = AdaBoostClassifier(n_estimators=3)\n",
    "ada_3.fit(X_train, Y_train)\n",
    "predic_ada_3 = ada_3.predict(X_test)\n",
    "cal_ada_3 = sklearn.metrics.accuracy_score(Y_test, predic_ada_3)\n",
    "print(\"AdaBoost / accuracy when n_estimators=3 : \",cal_ada_3)\n",
    "\n",
    "ada_7 = AdaBoostClassifier(n_estimators=7)\n",
    "ada_7.fit(X_train, Y_train)\n",
    "predic_ada_7 = ada_7.predict(X_test)\n",
    "cal_ada_7 = sklearn.metrics.accuracy_score(Y_test, predic_ada_7)\n",
    "print(\"AdaBoost / accuracy when n_estimators=7 : \",cal_ada_7)\n",
    "\n",
    "ada_10 = AdaBoostClassifier(n_estimators=10)\n",
    "ada_10.fit(X_train, Y_train)\n",
    "predic_ada_10 = ada_10.predict(X_test)\n",
    "cal_ada_10 = sklearn.metrics.accuracy_score(Y_test, predic_ada_10)\n",
    "print(\"AdaBoost / accuracy when n_estimators=10 : \",cal_ada_10)\n",
    "\n",
    "ada_50 = AdaBoostClassifier(n_estimators=50)\n",
    "ada_50.fit(X_train, Y_train)\n",
    "predic_ada_50 = ada_50.predict(X_test)\n",
    "cal_ada_50 = sklearn.metrics.accuracy_score(Y_test, predic_ada_50)\n",
    "print(\"AdaBoost / accuracy when n_estimators=50 : \",cal_ada_50)\n",
    "\n",
    "ada_100 = AdaBoostClassifier(n_estimators=100)\n",
    "ada_100.fit(X_train, Y_train)\n",
    "predic_ada_100 = ada_100.predict(X_test)\n",
    "cal_ada_100 = sklearn.metrics.accuracy_score(Y_test, predic_ada_100)\n",
    "print(\"AdaBoost / accuracy when n_estimators=100 : \",cal_ada_100)"
   ]
  },
  {
   "cell_type": "code",
   "execution_count": 209,
   "metadata": {},
   "outputs": [],
   "source": [
    "#4-2) compare the best performance of AdaBoostClassifier with that of IBL. \n",
    "# Which is better? Explain the results.->IBL"
   ]
  },
  {
   "cell_type": "code",
   "execution_count": 210,
   "metadata": {},
   "outputs": [],
   "source": [
    "#5 Running Random Forest\n",
    "from sklearn.ensemble import RandomForestClassifier"
   ]
  },
  {
   "cell_type": "code",
   "execution_count": 211,
   "metadata": {},
   "outputs": [
    {
     "name": "stdout",
     "output_type": "stream",
     "text": [
      "Random Forest / accuracy when n_estimators=5 :  0.7777777777777778\n",
      "Random Forest / accuracy when n_estimators=10 :  0.8271604938271605\n",
      "Random Forest / accuracy when n_estimators=30 :  0.8024691358024691\n",
      "Random Forest / accuracy when n_estimators=100 :  0.8024691358024691\n"
     ]
    }
   ],
   "source": [
    "#5-1) Run by changing n_estimators = 5, 10, 30, 50, 100, respectively, \n",
    "#and show the accuracies of each run. Explain the effect of the n_estimators.\n",
    "\n",
    "ranf_5 = RandomForestClassifier(n_estimators=5,max_depth=2, random_state=0)\n",
    "ranf_5.fit(X_train, Y_train)\n",
    "predic_ranf_5 = ranf_5.predict(X_test)\n",
    "cal_ranf_5 = sklearn.metrics.accuracy_score(Y_test, predic_ranf_5)\n",
    "print(\"Random Forest / accuracy when n_estimators=5 : \",cal_ranf_5)\n",
    "\n",
    "ranf_10 = RandomForestClassifier(n_estimators=10,max_depth=2, random_state=0)\n",
    "ranf_10.fit(X_train, Y_train)\n",
    "predic_ranf_10 = ranf_10.predict(X_test)\n",
    "cal_ranf_10 = sklearn.metrics.accuracy_score(Y_test, predic_ranf_10)\n",
    "print(\"Random Forest / accuracy when n_estimators=10 : \",cal_ranf_10)\n",
    "\n",
    "ranf_30 = RandomForestClassifier(n_estimators=30,max_depth=2, random_state=0)\n",
    "ranf_30.fit(X_train, Y_train)\n",
    "predic_ranf_30 = ranf_30.predict(X_test)\n",
    "cal_ranf_30 = sklearn.metrics.accuracy_score(Y_test, predic_ranf_30)\n",
    "print(\"Random Forest / accuracy when n_estimators=30 : \",cal_ranf_30)\n",
    "\n",
    "ranf_100 = RandomForestClassifier(n_estimators=100,max_depth=2, random_state=0)\n",
    "ranf_100.fit(X_train, Y_train)\n",
    "predic_ranf_100 = ranf_100.predict(X_test)\n",
    "cal_ranf_100 = sklearn.metrics.accuracy_score(Y_test, predic_ranf_100)\n",
    "print(\"Random Forest / accuracy when n_estimators=100 : \",cal_ranf_100)"
   ]
  },
  {
   "cell_type": "code",
   "execution_count": 212,
   "metadata": {},
   "outputs": [
    {
     "name": "stdout",
     "output_type": "stream",
     "text": [
      "Random Forest / accuracy when oob_score = False :  0.8024691358024691\n",
      "Random Forest / accuracy when oob_score = True :  0.8024691358024691\n"
     ]
    }
   ],
   "source": [
    "#5-2) Choose the optimal n_estimators from q. 1), \n",
    "#and run the model by changing oob_score = True/False. respectively. \n",
    "#Show the accuracies of each run, and explain the effect of the oob_score.\n",
    "\n",
    "#optimal n_estimators=100\n",
    "\n",
    "ranf_f = RandomForestClassifier(n_estimators=100,oob_score=False,max_depth=2, random_state=0)\n",
    "ranf_f.fit(X_train, Y_train)\n",
    "predic_ranf_f = ranf_f.predict(X_test)\n",
    "cal_ranf_f = sklearn.metrics.accuracy_score(Y_test, predic_ranf_f)\n",
    "print(\"Random Forest / accuracy when oob_score = False : \",cal_ranf_f)\n",
    "\n",
    "ranf_t = RandomForestClassifier(n_estimators=100,oob_score=True,max_depth=2, random_state=0)\n",
    "ranf_t.fit(X_train, Y_train)\n",
    "predic_ranf_t = ranf_t.predict(X_test)\n",
    "cal_ranf_t = sklearn.metrics.accuracy_score(Y_test, predic_ranf_t)\n",
    "print(\"Random Forest / accuracy when oob_score = True : \",cal_ranf_t)"
   ]
  },
  {
   "cell_type": "code",
   "execution_count": 213,
   "metadata": {},
   "outputs": [
    {
     "name": "stdout",
     "output_type": "stream",
     "text": [
      "Random Forest / accuracy when max_features = “auto” :  0.8024691358024691\n",
      "Random Forest / accuracy when max_features = “sqrt” :  0.8024691358024691\n",
      "Random Forest / accuracy when max_features = “log2” :  0.8024691358024691\n"
     ]
    }
   ],
   "source": [
    "#5-3) Choose the optimal n_estimators from q. 1), \n",
    "#and run the model by changing max_features = “auto”, “sqrt”, “log2”, respectively.\n",
    "#Show the accuracies of each run, and explain the effect of the max_features.\n",
    "\n",
    "ranf_a = RandomForestClassifier(n_estimators=100, max_features='auto',max_depth=2, random_state=0)\n",
    "ranf_a.fit(X_train, Y_train)\n",
    "predic_ranf_a = ranf_a.predict(X_test)\n",
    "cal_ranf_a = sklearn.metrics.accuracy_score(Y_test, predic_ranf_a)\n",
    "print(\"Random Forest / accuracy when max_features = “auto” : \",cal_ranf_a)\n",
    "\n",
    "ranf_s = RandomForestClassifier(n_estimators=100, max_features='sqrt',max_depth=2, random_state=0)\n",
    "ranf_s.fit(X_train, Y_train)\n",
    "predic_ranf_s = ranf_s.predict(X_test)\n",
    "cal_ranf_s = sklearn.metrics.accuracy_score(Y_test, predic_ranf_s)\n",
    "print(\"Random Forest / accuracy when max_features = “sqrt” : \",cal_ranf_s)\n",
    "\n",
    "ranf_l = RandomForestClassifier(n_estimators=100, max_features='log2',max_depth=2, random_state=0)\n",
    "ranf_l.fit(X_train, Y_train)\n",
    "predic_ranf_l = ranf_l.predict(X_test)\n",
    "cal_ranf_l = sklearn.metrics.accuracy_score(Y_test, predic_ranf_l)\n",
    "print(\"Random Forest / accuracy when max_features = “log2” : \",cal_ranf_l)\n",
    "\n"
   ]
  },
  {
   "cell_type": "code",
   "execution_count": 214,
   "metadata": {},
   "outputs": [],
   "source": [
    "# 6. Running SVM\n",
    "from sklearn import svm"
   ]
  },
  {
   "cell_type": "code",
   "execution_count": 215,
   "metadata": {},
   "outputs": [
    {
     "name": "stdout",
     "output_type": "stream",
     "text": [
      "SVM / accuracy of SVM :  0.8395061728395061\n"
     ]
    }
   ],
   "source": [
    "#6-1) calculate the accuracy of SVC.\n",
    "\n",
    "svm_ = svm.SVC()\n",
    "svm_.fit(X_train, Y_train)\n",
    "predic_svm_ = svm_.predict(X_test)\n",
    "cal_svm_ = sklearn.metrics.accuracy_score(Y_test, predic_svm_)\n",
    "print(\"SVM / accuracy of SVM : \",cal_svm_)"
   ]
  },
  {
   "cell_type": "code",
   "execution_count": 216,
   "metadata": {},
   "outputs": [
    {
     "name": "stdout",
     "output_type": "stream",
     "text": [
      "SVM / accuracy when kernel='linear' :  0.8395061728395061\n",
      "SVM / accuracy when kernel='rbf' :  0.8395061728395061\n",
      "SVM / accuracy when kernel='poly' :  0.8395061728395061\n",
      "SVM / accuracy when kernel='sigmoid' :  0.8641975308641975\n"
     ]
    }
   ],
   "source": [
    "#6-2) run SVC by changing kernel to \n",
    "#‘linear’, ‘poly’, ‘rbf’, and ‘sigmoid’, and show the accuracies of each.\n",
    "# Which kernel function shows the best accuracy ? => sigmoid\n",
    "\n",
    "svm_linear = svm.SVC(kernel='linear')\n",
    "svm_linear.fit(X_train, Y_train)\n",
    "predic_svm_linear = svm_linear.predict(X_test)\n",
    "cal_svm_linear = sklearn.metrics.accuracy_score(Y_test, predic_svm_linear)\n",
    "print(\"SVM / accuracy when kernel='linear' : \",cal_svm_linear)\n",
    "\n",
    "svm_rbf = svm.SVC(kernel='rbf')\n",
    "svm_rbf.fit(X_train, Y_train)\n",
    "predic_svm_rbf = svm_rbf.predict(X_test)\n",
    "cal_svm_rbf = sklearn.metrics.accuracy_score(Y_test, predic_svm_)\n",
    "print(\"SVM / accuracy when kernel='rbf' : \",cal_svm_rbf)\n",
    "\n",
    "svm_poly = svm.SVC(kernel='poly')\n",
    "svm_poly.fit(X_train, Y_train)\n",
    "predic_svm_poly = svm_.predict(X_test)\n",
    "cal_svm_poly = sklearn.metrics.accuracy_score(Y_test, predic_svm_)\n",
    "print(\"SVM / accuracy when kernel='poly' : \",cal_svm_poly)\n",
    "\n",
    "svm_sigmoid = svm.SVC(kernel='sigmoid')\n",
    "svm_sigmoid.fit(X_train, Y_train)\n",
    "predic_svm_sigmoid = svm_sigmoid.predict(X_test)\n",
    "cal_svm_sigmoid = sklearn.metrics.accuracy_score(Y_test, predic_svm_sigmoid)\n",
    "print(\"SVM / accuracy when kernel='sigmoid' : \",cal_svm_sigmoid)"
   ]
  },
  {
   "cell_type": "code",
   "execution_count": 217,
   "metadata": {},
   "outputs": [],
   "source": [
    "#6-3) compare the accuracy of SVC with that of IBL, RandomForest, and AdaBoost, respectively.\n",
    "#Explain the results."
   ]
  },
  {
   "cell_type": "code",
   "execution_count": null,
   "metadata": {},
   "outputs": [],
   "source": []
  },
  {
   "cell_type": "code",
   "execution_count": null,
   "metadata": {},
   "outputs": [],
   "source": []
  },
  {
   "cell_type": "code",
   "execution_count": null,
   "metadata": {},
   "outputs": [],
   "source": []
  }
 ],
 "metadata": {
  "kernelspec": {
   "display_name": "Python 3",
   "language": "python",
   "name": "python3"
  },
  "language_info": {
   "codemirror_mode": {
    "name": "ipython",
    "version": 3
   },
   "file_extension": ".py",
   "mimetype": "text/x-python",
   "name": "python",
   "nbconvert_exporter": "python",
   "pygments_lexer": "ipython3",
   "version": "3.8.5"
  }
 },
 "nbformat": 4,
 "nbformat_minor": 4
}
